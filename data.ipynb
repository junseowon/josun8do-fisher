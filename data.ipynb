{
 "cells": [
  {
   "cell_type": "markdown",
   "metadata": {},
   "source": [
    "데이터 : 해양수산부 국립수산과학원"
   ]
  },
  {
   "cell_type": "markdown",
   "metadata": {},
   "source": [
    "### 데이터불러오기"
   ]
  },
  {
   "cell_type": "code",
   "execution_count": 26,
   "metadata": {},
   "outputs": [],
   "source": [
    "import requests\n",
    "import pandas as pd\n",
    "import json"
   ]
  },
  {
   "cell_type": "code",
   "execution_count": 27,
   "metadata": {},
   "outputs": [
    {
     "name": "stdout",
     "output_type": "stream",
     "text": [
      "http://apis.data.go.kr/1520635/OceanBiospeciesInfoService/getOceanBiospeciesResult?serviceKey=dXCD2cBMwTDD2W/hQd7doY5EYwJ82pKFPyaVU9i89OcBYenYBf4h9letUWJgAR5JO4FFgwzpjTMECuYtvPOtHA==&numOfRows=1000&pageNo=1 {'serviceKey': 'dXCD2cBMwTDD2W/hQd7doY5EYwJ82pKFPyaVU9i89OcBYenYBf4h9letUWJgAR5JO4FFgwzpjTMECuYtvPOtHA==', 'numOfRows': '10', 'pageNo': '1'}\n"
     ]
    }
   ],
   "source": [
    "url = 'http://apis.data.go.kr/1520635/OceanBiospeciesInfoService/getOceanBiospeciesResult?serviceKey=dXCD2cBMwTDD2W/hQd7doY5EYwJ82pKFPyaVU9i89OcBYenYBf4h9letUWJgAR5JO4FFgwzpjTMECuYtvPOtHA==&numOfRows=1000&pageNo=1'\n",
    "params ={'serviceKey' : 'dXCD2cBMwTDD2W/hQd7doY5EYwJ82pKFPyaVU9i89OcBYenYBf4h9letUWJgAR5JO4FFgwzpjTMECuYtvPOtHA==',\n",
    "        'numOfRows' : '10', \n",
    "        'pageNo' : '1' }\n",
    "\n",
    "response = requests.get(url=url)\n",
    "print(url,params)"
   ]
  },
  {
   "cell_type": "markdown",
   "metadata": {},
   "source": [
    "### xml->dataframe"
   ]
  },
  {
   "cell_type": "code",
   "execution_count": 28,
   "metadata": {},
   "outputs": [
    {
     "name": "stderr",
     "output_type": "stream",
     "text": [
      "C:\\Users\\daega\\AppData\\Local\\Temp\\ipykernel_31124\\2446481714.py:1: FutureWarning: Passing literal xml to 'read_xml' is deprecated and will be removed in a future version. To read from a literal string, wrap it in a 'StringIO' object.\n",
      "  _df = pd.read_xml(response.text, xpath='.//item')\n"
     ]
    }
   ],
   "source": [
    "_df = pd.read_xml(response.text, xpath='.//item')"
   ]
  },
  {
   "cell_type": "markdown",
   "metadata": {},
   "source": [
    "### 전처리"
   ]
  },
  {
   "cell_type": "markdown",
   "metadata": {},
   "source": [
    "행 삭제 (필요한것만 남기기)"
   ]
  },
  {
   "cell_type": "code",
   "execution_count": 29,
   "metadata": {},
   "outputs": [
    {
     "data": {
      "text/html": [
       "<div>\n",
       "<style scoped>\n",
       "    .dataframe tbody tr th:only-of-type {\n",
       "        vertical-align: middle;\n",
       "    }\n",
       "\n",
       "    .dataframe tbody tr th {\n",
       "        vertical-align: top;\n",
       "    }\n",
       "\n",
       "    .dataframe thead th {\n",
       "        text-align: right;\n",
       "    }\n",
       "</style>\n",
       "<table border=\"1\" class=\"dataframe\">\n",
       "  <thead>\n",
       "    <tr style=\"text-align: right;\">\n",
       "      <th></th>\n",
       "      <th>mfClassKor</th>\n",
       "      <th>mfDisinfo</th>\n",
       "      <th>mfDistribution</th>\n",
       "      <th>mfFamilyKor</th>\n",
       "      <th>mfFeature</th>\n",
       "      <th>mfSpeciesKor</th>\n",
       "    </tr>\n",
       "  </thead>\n",
       "  <tbody>\n",
       "    <tr>\n",
       "      <th>0</th>\n",
       "      <td>조기어강</td>\n",
       "      <td>None</td>\n",
       "      <td>한국 남부 태평양과 인도양의 열대 및 온대 해역</td>\n",
       "      <td>돛새치과</td>\n",
       "      <td>좌우 새조골막은 하나로 융합되어 있으며 새파는 없다.양턱과 구개골에는 작지만 균일한...</td>\n",
       "      <td>청새치</td>\n",
       "    </tr>\n",
       "    <tr>\n",
       "      <th>1</th>\n",
       "      <td>조기어강</td>\n",
       "      <td>None</td>\n",
       "      <td>북서태평양 (한국, 일본,  동중국해, 대만)</td>\n",
       "      <td>쥐치과</td>\n",
       "      <td>몸은 타원형에 가까우며 매우 측편되어 있다.  체고는 높으며, 주둥이 끝은 뾰족하고...</td>\n",
       "      <td>쥐치</td>\n",
       "    </tr>\n",
       "    <tr>\n",
       "      <th>2</th>\n",
       "      <td>조기어강</td>\n",
       "      <td>None</td>\n",
       "      <td>우리나라 남부, 일본 북해도 이남, 동중국해까지 분포한다.</td>\n",
       "      <td>쥐치과</td>\n",
       "      <td>몸은 타원형에 가까우며 옆으로 매우 납작하고 몸높이는 높다. 주둥이 끝은 뾰족하고 ...</td>\n",
       "      <td>쥐치</td>\n",
       "    </tr>\n",
       "    <tr>\n",
       "      <th>3</th>\n",
       "      <td>조기어강</td>\n",
       "      <td>None</td>\n",
       "      <td>None</td>\n",
       "      <td>쥐치과</td>\n",
       "      <td>None</td>\n",
       "      <td>쥐치</td>\n",
       "    </tr>\n",
       "    <tr>\n",
       "      <th>4</th>\n",
       "      <td>조기어강</td>\n",
       "      <td>전연안</td>\n",
       "      <td>우리나라 전 연안, 일본 북해도이남, 동중국해, 대만</td>\n",
       "      <td>쥐치과</td>\n",
       "      <td>몸은 타원형에 가깝고 측편되며, 체고가 높다. 주둥이는 뾰족하고 꼬리자루는 짧으며,...</td>\n",
       "      <td>쥐치</td>\n",
       "    </tr>\n",
       "  </tbody>\n",
       "</table>\n",
       "</div>"
      ],
      "text/plain": [
       "  mfClassKor mfDisinfo                     mfDistribution mfFamilyKor  \\\n",
       "0       조기어강      None         한국 남부 태평양과 인도양의 열대 및 온대 해역        돛새치과   \n",
       "1       조기어강      None          북서태평양 (한국, 일본,  동중국해, 대만)         쥐치과   \n",
       "2       조기어강      None  우리나라 남부, 일본 북해도 이남, 동중국해까지 분포한다.          쥐치과   \n",
       "3       조기어강      None                               None         쥐치과   \n",
       "4       조기어강       전연안      우리나라 전 연안, 일본 북해도이남, 동중국해, 대만         쥐치과   \n",
       "\n",
       "                                           mfFeature mfSpeciesKor  \n",
       "0  좌우 새조골막은 하나로 융합되어 있으며 새파는 없다.양턱과 구개골에는 작지만 균일한...          청새치  \n",
       "1  몸은 타원형에 가까우며 매우 측편되어 있다.  체고는 높으며, 주둥이 끝은 뾰족하고...           쥐치  \n",
       "2  몸은 타원형에 가까우며 옆으로 매우 납작하고 몸높이는 높다. 주둥이 끝은 뾰족하고 ...           쥐치  \n",
       "3                                               None           쥐치  \n",
       "4  몸은 타원형에 가깝고 측편되며, 체고가 높다. 주둥이는 뾰족하고 꼬리자루는 짧으며,...           쥐치  "
      ]
     },
     "execution_count": 29,
     "metadata": {},
     "output_type": "execute_result"
    }
   ],
   "source": [
    "df = _df[[\"mfClassKor\",\"mfDisinfo\", \"mfDistribution\", \"mfFamilyKor\", \"mfFeature\", \"mfSpeciesKor\"]]\n",
    "df.head()"
   ]
  },
  {
   "cell_type": "markdown",
   "metadata": {},
   "source": [
    "중복제거 & 결측치제거"
   ]
  },
  {
   "cell_type": "code",
   "execution_count": 32,
   "metadata": {},
   "outputs": [
    {
     "name": "stderr",
     "output_type": "stream",
     "text": [
      "C:\\Users\\daega\\AppData\\Local\\Temp\\ipykernel_31124\\1596300023.py:1: SettingWithCopyWarning: \n",
      "A value is trying to be set on a copy of a slice from a DataFrame\n",
      "\n",
      "See the caveats in the documentation: https://pandas.pydata.org/pandas-docs/stable/user_guide/indexing.html#returning-a-view-versus-a-copy\n",
      "  df.drop_duplicates(subset='mfSpeciesKor',inplace=True)\n",
      "C:\\Users\\daega\\AppData\\Local\\Temp\\ipykernel_31124\\1596300023.py:2: SettingWithCopyWarning: \n",
      "A value is trying to be set on a copy of a slice from a DataFrame\n",
      "\n",
      "See the caveats in the documentation: https://pandas.pydata.org/pandas-docs/stable/user_guide/indexing.html#returning-a-view-versus-a-copy\n",
      "  df.dropna(subset='mfSpeciesKor',inplace=True)\n"
     ]
    }
   ],
   "source": [
    "df.drop_duplicates(subset='mfSpeciesKor',inplace=True)\n",
    "df.dropna(subset='mfSpeciesKor',inplace=True)"
   ]
  },
  {
   "cell_type": "markdown",
   "metadata": {},
   "source": [
    "우리나라 안 사는 어류종 삭제"
   ]
  },
  {
   "cell_type": "code",
   "execution_count": 51,
   "metadata": {},
   "outputs": [],
   "source": [
    "# 한국 관련 아닌 키워드를 추출하여 조건을 생성\n",
    "condition = (\n",
    "    (df['mfDisinfo'] != '우리나라') & \n",
    "    (df['mfDisinfo'] != '한국') & \n",
    "    (df['mfDisinfo'] != '전연안') & \n",
    "    (~df['mfDistribution'].str.contains(\"우리나라\", na=False)) & \n",
    "    (~df['mfDistribution'].str.contains(\"한국\", na=False)) &\n",
    "    (~df['mfDistribution'].str.contains(\"동해\", na=False)) &\n",
    "    (~df['mfDistribution'].str.contains(\"서해\", na=False)) & \n",
    "    (~df['mfDistribution'].str.contains(\"남해\", na=False)) & \n",
    "    (~df['mfDistribution'].str.contains(\"제주\", na=False)) & \n",
    "    (~df['mfDistribution'].str.contains(\"울릉\", na=False)) &\n",
    "    (~df['mfDistribution'].str.contains(\"독도\", na=False))\n",
    ")\n",
    "\n",
    "# 조건에 맞는 행 삭제\n",
    "df = df[~condition]"
   ]
  },
  {
   "cell_type": "markdown",
   "metadata": {},
   "source": [
    "고래 & 상어 & 해파리 삭제"
   ]
  },
  {
   "cell_type": "code",
   "execution_count": 59,
   "metadata": {},
   "outputs": [],
   "source": [
    "condition = (\n",
    "    (df['mfSpeciesKor'].str.contains(\"해파리\", na=False)) |\n",
    "    (df['mfSpeciesKor'].str.contains(\"상어\", na=False)) |\n",
    "    (df['mfSpeciesKor'].str.contains(\"고래\", na=False)) |\n",
    "    (df['mfFamilyKor'].str.contains(\"해파리\", na=False)) |\n",
    "    (df['mfFamilyKor'].str.contains(\"상어\", na=False)) |\n",
    "    (df['mfFamilyKor'].str.contains(\"고래\", na=False)) \n",
    ")\n",
    "\n",
    "df = df[~condition]"
   ]
  },
  {
   "cell_type": "markdown",
   "metadata": {},
   "source": [
    "지역별로 나누기"
   ]
  },
  {
   "cell_type": "code",
   "execution_count": 61,
   "metadata": {},
   "outputs": [
    {
     "data": {
      "text/html": [
       "<div>\n",
       "<style scoped>\n",
       "    .dataframe tbody tr th:only-of-type {\n",
       "        vertical-align: middle;\n",
       "    }\n",
       "\n",
       "    .dataframe tbody tr th {\n",
       "        vertical-align: top;\n",
       "    }\n",
       "\n",
       "    .dataframe thead th {\n",
       "        text-align: right;\n",
       "    }\n",
       "</style>\n",
       "<table border=\"1\" class=\"dataframe\">\n",
       "  <thead>\n",
       "    <tr style=\"text-align: right;\">\n",
       "      <th></th>\n",
       "      <th>mfClassKor</th>\n",
       "      <th>mfDisinfo</th>\n",
       "      <th>mfDistribution</th>\n",
       "      <th>mfFamilyKor</th>\n",
       "      <th>mfFeature</th>\n",
       "      <th>mfSpeciesKor</th>\n",
       "      <th>지역</th>\n",
       "    </tr>\n",
       "  </thead>\n",
       "  <tbody>\n",
       "    <tr>\n",
       "      <th>0</th>\n",
       "      <td>조기어강</td>\n",
       "      <td>None</td>\n",
       "      <td>한국 남부 태평양과 인도양의 열대 및 온대 해역</td>\n",
       "      <td>돛새치과</td>\n",
       "      <td>좌우 새조골막은 하나로 융합되어 있으며 새파는 없다.양턱과 구개골에는 작지만 균일한...</td>\n",
       "      <td>청새치</td>\n",
       "      <td>None</td>\n",
       "    </tr>\n",
       "    <tr>\n",
       "      <th>1</th>\n",
       "      <td>조기어강</td>\n",
       "      <td>None</td>\n",
       "      <td>북서태평양 (한국, 일본,  동중국해, 대만)</td>\n",
       "      <td>쥐치과</td>\n",
       "      <td>몸은 타원형에 가까우며 매우 측편되어 있다.  체고는 높으며, 주둥이 끝은 뾰족하고...</td>\n",
       "      <td>쥐치</td>\n",
       "      <td>None</td>\n",
       "    </tr>\n",
       "    <tr>\n",
       "      <th>7</th>\n",
       "      <td>이형세대강</td>\n",
       "      <td>제주도,완도,독도</td>\n",
       "      <td>일본, 오스트레일리아, 인도양에 분포하고 우리나라에서는 제주도, 독도, 완도에 분포한다.</td>\n",
       "      <td>스포로크누스과</td>\n",
       "      <td>뿌리는 상당히 큰 원추상반이며 황갈색의 털로 덮였다. 털은 뿌리의 상당히 상부에까지...</td>\n",
       "      <td>스포로크누스</td>\n",
       "      <td>None</td>\n",
       "    </tr>\n",
       "    <tr>\n",
       "      <th>8</th>\n",
       "      <td>복족강</td>\n",
       "      <td>None</td>\n",
       "      <td>한국, 일본(홋카이도, 혼슈, 시코쿠, 큐우슈우, 초시)</td>\n",
       "      <td>밤고둥과</td>\n",
       "      <td>패각은 난원형, 나탑은 낮은 원추형, 나층은 7층, 각 층은 팽윤되어 있다.\\r\\r...</td>\n",
       "      <td>개울타리고둥</td>\n",
       "      <td>None</td>\n",
       "    </tr>\n",
       "    <tr>\n",
       "      <th>9</th>\n",
       "      <td>None</td>\n",
       "      <td>주문진,속초,부산,비진도,거제도,욕지도,완도,여수,어청도,제주도</td>\n",
       "      <td>일본에 분포되고 우리나라에서는 주문진, 속초, 부산, 비진도, 거제도, 욕지도, 완...</td>\n",
       "      <td>모자반과</td>\n",
       "      <td>몸의 높이는 2∼3m 이며 대체로 전기한 종과 매우 비슷하다. 그리고 계절과 산지에...</td>\n",
       "      <td>꽈배기모자반</td>\n",
       "      <td>None</td>\n",
       "    </tr>\n",
       "  </tbody>\n",
       "</table>\n",
       "</div>"
      ],
      "text/plain": [
       "  mfClassKor                            mfDisinfo  \\\n",
       "0       조기어강                                 None   \n",
       "1       조기어강                                 None   \n",
       "7      이형세대강                            제주도,완도,독도   \n",
       "8        복족강                                 None   \n",
       "9       None  주문진,속초,부산,비진도,거제도,욕지도,완도,여수,어청도,제주도   \n",
       "\n",
       "                                      mfDistribution mfFamilyKor  \\\n",
       "0                         한국 남부 태평양과 인도양의 열대 및 온대 해역        돛새치과   \n",
       "1                          북서태평양 (한국, 일본,  동중국해, 대만)         쥐치과   \n",
       "7  일본, 오스트레일리아, 인도양에 분포하고 우리나라에서는 제주도, 독도, 완도에 분포한다.     스포로크누스과   \n",
       "8                    한국, 일본(홋카이도, 혼슈, 시코쿠, 큐우슈우, 초시)        밤고둥과   \n",
       "9  일본에 분포되고 우리나라에서는 주문진, 속초, 부산, 비진도, 거제도, 욕지도, 완...        모자반과   \n",
       "\n",
       "                                           mfFeature mfSpeciesKor    지역  \n",
       "0  좌우 새조골막은 하나로 융합되어 있으며 새파는 없다.양턱과 구개골에는 작지만 균일한...          청새치  None  \n",
       "1  몸은 타원형에 가까우며 매우 측편되어 있다.  체고는 높으며, 주둥이 끝은 뾰족하고...           쥐치  None  \n",
       "7  뿌리는 상당히 큰 원추상반이며 황갈색의 털로 덮였다. 털은 뿌리의 상당히 상부에까지...       스포로크누스  None  \n",
       "8  패각은 난원형, 나탑은 낮은 원추형, 나층은 7층, 각 층은 팽윤되어 있다.\\r\\r...       개울타리고둥  None  \n",
       "9  몸의 높이는 2∼3m 이며 대체로 전기한 종과 매우 비슷하다. 그리고 계절과 산지에...       꽈배기모자반  None  "
      ]
     },
     "execution_count": 61,
     "metadata": {},
     "output_type": "execute_result"
    }
   ],
   "source": [
    "df['지역'] = None\n",
    "df.head()"
   ]
  },
  {
   "cell_type": "code",
   "execution_count": 67,
   "metadata": {},
   "outputs": [],
   "source": [
    "### 우선순위 : 서해-> 울릉 -> 제주 -> 부산 -> 동해 -> 남해\n",
    "## 우선순위대로 하기 위해 반대로 코딩하면 됨\n",
    "## 서해 어류종이 너무 적어 1순위 (마지막에 count)\n",
    "\n",
    "ulleung = '울릉도'\n",
    "jeju = '제주'\n",
    "busan = '부산'\n",
    "east = '동해'\n",
    "south = '남해'\n",
    "west = '서해'"
   ]
  },
  {
   "cell_type": "code",
   "execution_count": 90,
   "metadata": {},
   "outputs": [
    {
     "name": "stdout",
     "output_type": "stream",
     "text": [
      "남해 62\n"
     ]
    }
   ],
   "source": [
    "# 남해\n",
    "\n",
    "condition = (\n",
    "    (df['mfDisinfo'].str.contains(south, na=False)) |\n",
    "    (df['mfDistribution'].str.contains(south, na=False))\n",
    ")\n",
    "\n",
    "df.loc[condition, ['지역']] = south\n",
    "\n",
    "print(south , len(df[df['지역']==south]))"
   ]
  },
  {
   "cell_type": "code",
   "execution_count": 91,
   "metadata": {},
   "outputs": [
    {
     "name": "stdout",
     "output_type": "stream",
     "text": [
      "동해 66\n"
     ]
    }
   ],
   "source": [
    "# 동해\n",
    "\n",
    "condition = (\n",
    "    (df['mfDisinfo'].str.contains(east, na=False)) |\n",
    "    (df['mfDistribution'].str.contains(east, na=False))\n",
    ")\n",
    "\n",
    "df.loc[condition, ['지역']] = east\n",
    "\n",
    "print(east , len(df[df['지역']==east]))"
   ]
  },
  {
   "cell_type": "code",
   "execution_count": 92,
   "metadata": {},
   "outputs": [
    {
     "name": "stdout",
     "output_type": "stream",
     "text": [
      "부산 52\n"
     ]
    }
   ],
   "source": [
    "# 부산\n",
    "\n",
    "condition = (\n",
    "    (df['mfDisinfo'].str.contains(busan, na=False)) |\n",
    "    (df['mfDistribution'].str.contains(busan, na=False))\n",
    ")\n",
    "\n",
    "df.loc[condition, ['지역']] = busan\n",
    "\n",
    "print(busan , len(df[df['지역']==busan]))"
   ]
  },
  {
   "cell_type": "code",
   "execution_count": 94,
   "metadata": {},
   "outputs": [
    {
     "name": "stdout",
     "output_type": "stream",
     "text": [
      "제주 64\n"
     ]
    }
   ],
   "source": [
    "# 제주도\n",
    "\n",
    "condition = (\n",
    "    (df['mfDisinfo'].str.contains(jeju, na=False)) |\n",
    "    (df['mfDistribution'].str.contains(jeju, na=False))\n",
    ")\n",
    "\n",
    "df.loc[condition, ['지역']] = jeju\n",
    "\n",
    "print(jeju , len(df[df['지역']==jeju]))"
   ]
  },
  {
   "cell_type": "code",
   "execution_count": 95,
   "metadata": {},
   "outputs": [
    {
     "name": "stdout",
     "output_type": "stream",
     "text": [
      "울릉도 24\n"
     ]
    }
   ],
   "source": [
    "# 울릉도\n",
    "\n",
    "condition = (\n",
    "    (df['mfDisinfo'].str.contains(ulleung, na=False)) |\n",
    "    (df['mfDistribution'].str.contains(ulleung, na=False))\n",
    ")\n",
    "\n",
    "df.loc[condition, ['지역']] = ulleung\n",
    "\n",
    "print(ulleung , len(df[df['지역']==ulleung]))"
   ]
  },
  {
   "cell_type": "code",
   "execution_count": 97,
   "metadata": {},
   "outputs": [
    {
     "name": "stdout",
     "output_type": "stream",
     "text": [
      "서해 20\n"
     ]
    }
   ],
   "source": [
    "# 서해\n",
    "\n",
    "condition = (\n",
    "    (df['mfDisinfo'].str.contains(west, na=False)) |\n",
    "    (df['mfDistribution'].str.contains(west, na=False))\n",
    ")\n",
    "\n",
    "df.loc[condition, ['지역']] = west\n",
    "\n",
    "print(west , len(df[df['지역']==west]))"
   ]
  },
  {
   "cell_type": "markdown",
   "metadata": {},
   "source": [
    "지역별 개수 확인"
   ]
  },
  {
   "cell_type": "code",
   "execution_count": 98,
   "metadata": {},
   "outputs": [
    {
     "name": "stdout",
     "output_type": "stream",
     "text": [
      "지역\n",
      "제주     53\n",
      "동해     42\n",
      "남해     25\n",
      "울릉도    23\n",
      "부산     21\n",
      "서해     20\n",
      "Name: count, dtype: int64\n"
     ]
    }
   ],
   "source": [
    "value_counts = df['지역'].value_counts()\n",
    "print(value_counts)"
   ]
  },
  {
   "cell_type": "markdown",
   "metadata": {},
   "source": [
    "### 20개씩만 남기기"
   ]
  },
  {
   "cell_type": "code",
   "execution_count": 105,
   "metadata": {},
   "outputs": [
    {
     "data": {
      "text/html": [
       "<div>\n",
       "<style scoped>\n",
       "    .dataframe tbody tr th:only-of-type {\n",
       "        vertical-align: middle;\n",
       "    }\n",
       "\n",
       "    .dataframe tbody tr th {\n",
       "        vertical-align: top;\n",
       "    }\n",
       "\n",
       "    .dataframe thead th {\n",
       "        text-align: right;\n",
       "    }\n",
       "</style>\n",
       "<table border=\"1\" class=\"dataframe\">\n",
       "  <thead>\n",
       "    <tr style=\"text-align: right;\">\n",
       "      <th></th>\n",
       "      <th>mfClassKor</th>\n",
       "      <th>mfDisinfo</th>\n",
       "      <th>mfDistribution</th>\n",
       "      <th>mfFamilyKor</th>\n",
       "      <th>mfFeature</th>\n",
       "      <th>mfSpeciesKor</th>\n",
       "      <th>지역</th>\n",
       "    </tr>\n",
       "  </thead>\n",
       "  <tbody>\n",
       "    <tr>\n",
       "      <th>504</th>\n",
       "      <td>조기어강</td>\n",
       "      <td>남해안</td>\n",
       "      <td>우리나라 남해, 일본 중부이남, 동중국해, 대만, 필리핀</td>\n",
       "      <td>나비고기과</td>\n",
       "      <td>몸은 원통형에 가깝고, 체고가 높고 매우 측편하며, 머리는 짧은 편이다. 주둥이는 ...</td>\n",
       "      <td>세동가리돔</td>\n",
       "      <td>남해</td>\n",
       "    </tr>\n",
       "    <tr>\n",
       "      <th>958</th>\n",
       "      <td>조기어강</td>\n",
       "      <td>서남해안</td>\n",
       "      <td>우리나라 서·남해, 일본 북해도 이남, 발해, 황해, 동중국해</td>\n",
       "      <td>도미과</td>\n",
       "      <td>몸은 타원형으로 측편하며, 주둥이는 약간 돌출한다. 양 턱의 앞쪽에는 각각 3쌍의 ...</td>\n",
       "      <td>감성돔</td>\n",
       "      <td>남해</td>\n",
       "    </tr>\n",
       "    <tr>\n",
       "      <th>927</th>\n",
       "      <td>조기어강</td>\n",
       "      <td>None</td>\n",
       "      <td>우리나라의 남해안과 인접한 강 하구와 일본, 대만, 하와이 및 서인도양 연안에 분포한다.</td>\n",
       "      <td>망둑어과</td>\n",
       "      <td>등지느러미 기조수는 5 11, 뒷지느러미 기조수는 11, 가슴지느러미 기조수는 19...</td>\n",
       "      <td>열동갈문절</td>\n",
       "      <td>남해</td>\n",
       "    </tr>\n",
       "    <tr>\n",
       "      <th>908</th>\n",
       "      <td>조기어강</td>\n",
       "      <td>None</td>\n",
       "      <td>태평양 서부 (한국 남해, 일본 남부, 동중국해, 대만)</td>\n",
       "      <td>빨간양태과</td>\n",
       "      <td>등지느러미는 2개로 가까이 위치하지만 분리되어 있고 제1등지느러미의 3번째 가시가 ...</td>\n",
       "      <td>빨간양태</td>\n",
       "      <td>남해</td>\n",
       "    </tr>\n",
       "    <tr>\n",
       "      <th>887</th>\n",
       "      <td>조기어강</td>\n",
       "      <td>남해안</td>\n",
       "      <td>우리나라 남해, 일본 남부해, 동중국해</td>\n",
       "      <td>양볼락과</td>\n",
       "      <td>몸은 타원형으로 측편하고, 머리에 단단한 가시들이 발달되어 있다. 눈 아래쪽에 뒤쪽...</td>\n",
       "      <td>붉감펭</td>\n",
       "      <td>남해</td>\n",
       "    </tr>\n",
       "    <tr>\n",
       "      <th>...</th>\n",
       "      <td>...</td>\n",
       "      <td>...</td>\n",
       "      <td>...</td>\n",
       "      <td>...</td>\n",
       "      <td>...</td>\n",
       "      <td>...</td>\n",
       "      <td>...</td>\n",
       "    </tr>\n",
       "    <tr>\n",
       "      <th>292</th>\n",
       "      <td>연갑강</td>\n",
       "      <td>None</td>\n",
       "      <td>제주도를 포함한 우리나라 전 연안의 조간대에서부터 수심 100m정도까지의 저서 암반...</td>\n",
       "      <td>부채게과</td>\n",
       "      <td>갑각은 부채꼴 모양이며 갑각의 등 면에 뚜렷한 주름들이 있으며, 작은 과립들이 있다...</td>\n",
       "      <td>꽃부채게</td>\n",
       "      <td>제주</td>\n",
       "    </tr>\n",
       "    <tr>\n",
       "      <th>267</th>\n",
       "      <td>조기어강</td>\n",
       "      <td>None</td>\n",
       "      <td>MORI(1952)는 마산과 진해에서 본 종의 국내 출현을 보고하는 KIM 등(19...</td>\n",
       "      <td>망둑어과</td>\n",
       "      <td>제1등지느러미 극조수는 5, 제2등지느러미 기조수는8~9, 뒷지느러미 기조수는9, ...</td>\n",
       "      <td>날개망둑</td>\n",
       "      <td>제주</td>\n",
       "    </tr>\n",
       "    <tr>\n",
       "      <th>175</th>\n",
       "      <td>조기어강</td>\n",
       "      <td>None</td>\n",
       "      <td>북서태평양(한국 제주도, 일본, 중국)</td>\n",
       "      <td>신월가자미과</td>\n",
       "      <td>체형은 타원형이고 눈은 몸의 오른쪽에 위치한다. 유안측의 가슴지느러미 길이가 무안측...</td>\n",
       "      <td>신월가자미</td>\n",
       "      <td>제주</td>\n",
       "    </tr>\n",
       "    <tr>\n",
       "      <th>260</th>\n",
       "      <td>녹조식물강</td>\n",
       "      <td>서귀포</td>\n",
       "      <td>일본, 인도네시아, 폴리네시아, 아메리카 태평양안에 분포되고, 우리나라에는 제주도 ...</td>\n",
       "      <td>아나디오메네과</td>\n",
       "      <td>몸은 크기가 3∼5cm 이고 꽃잎 모양으로 뭉쳐서 나고 부채꼴이며, 외견상 나뭇잎맥...</td>\n",
       "      <td>잎맥말</td>\n",
       "      <td>제주</td>\n",
       "    </tr>\n",
       "    <tr>\n",
       "      <th>964</th>\n",
       "      <td>조기어강</td>\n",
       "      <td>None</td>\n",
       "      <td>인도양~태평양(한국 남해, 제주도를 포함하여 홍해, 아프리카 동부에서 폴리네시아까지)</td>\n",
       "      <td>자리돔과</td>\n",
       "      <td>몸은 계란형이고 체고가 높다. 주둥이와 입은 작다. 등지느러미와 뒤지느러미의 후단은...</td>\n",
       "      <td>검은줄꼬리돔</td>\n",
       "      <td>제주</td>\n",
       "    </tr>\n",
       "  </tbody>\n",
       "</table>\n",
       "<p>120 rows × 7 columns</p>\n",
       "</div>"
      ],
      "text/plain": [
       "    mfClassKor mfDisinfo                                     mfDistribution  \\\n",
       "504       조기어강       남해안                    우리나라 남해, 일본 중부이남, 동중국해, 대만, 필리핀   \n",
       "958       조기어강      서남해안                 우리나라 서·남해, 일본 북해도 이남, 발해, 황해, 동중국해   \n",
       "927       조기어강      None  우리나라의 남해안과 인접한 강 하구와 일본, 대만, 하와이 및 서인도양 연안에 분포한다.   \n",
       "908       조기어강      None                    태평양 서부 (한국 남해, 일본 남부, 동중국해, 대만)   \n",
       "887       조기어강       남해안                              우리나라 남해, 일본 남부해, 동중국해   \n",
       "..         ...       ...                                                ...   \n",
       "292        연갑강      None  제주도를 포함한 우리나라 전 연안의 조간대에서부터 수심 100m정도까지의 저서 암반...   \n",
       "267       조기어강      None  MORI(1952)는 마산과 진해에서 본 종의 국내 출현을 보고하는 KIM 등(19...   \n",
       "175       조기어강      None                              북서태평양(한국 제주도, 일본, 중국)   \n",
       "260      녹조식물강       서귀포  일본, 인도네시아, 폴리네시아, 아메리카 태평양안에 분포되고, 우리나라에는 제주도 ...   \n",
       "964       조기어강      None    인도양~태평양(한국 남해, 제주도를 포함하여 홍해, 아프리카 동부에서 폴리네시아까지)   \n",
       "\n",
       "    mfFamilyKor                                          mfFeature  \\\n",
       "504       나비고기과  몸은 원통형에 가깝고, 체고가 높고 매우 측편하며, 머리는 짧은 편이다. 주둥이는 ...   \n",
       "958         도미과  몸은 타원형으로 측편하며, 주둥이는 약간 돌출한다. 양 턱의 앞쪽에는 각각 3쌍의 ...   \n",
       "927        망둑어과  등지느러미 기조수는 5 11, 뒷지느러미 기조수는 11, 가슴지느러미 기조수는 19...   \n",
       "908       빨간양태과  등지느러미는 2개로 가까이 위치하지만 분리되어 있고 제1등지느러미의 3번째 가시가 ...   \n",
       "887        양볼락과  몸은 타원형으로 측편하고, 머리에 단단한 가시들이 발달되어 있다. 눈 아래쪽에 뒤쪽...   \n",
       "..          ...                                                ...   \n",
       "292        부채게과  갑각은 부채꼴 모양이며 갑각의 등 면에 뚜렷한 주름들이 있으며, 작은 과립들이 있다...   \n",
       "267        망둑어과  제1등지느러미 극조수는 5, 제2등지느러미 기조수는8~9, 뒷지느러미 기조수는9, ...   \n",
       "175      신월가자미과  체형은 타원형이고 눈은 몸의 오른쪽에 위치한다. 유안측의 가슴지느러미 길이가 무안측...   \n",
       "260     아나디오메네과  몸은 크기가 3∼5cm 이고 꽃잎 모양으로 뭉쳐서 나고 부채꼴이며, 외견상 나뭇잎맥...   \n",
       "964        자리돔과  몸은 계란형이고 체고가 높다. 주둥이와 입은 작다. 등지느러미와 뒤지느러미의 후단은...   \n",
       "\n",
       "    mfSpeciesKor  지역  \n",
       "504        세동가리돔  남해  \n",
       "958          감성돔  남해  \n",
       "927        열동갈문절  남해  \n",
       "908         빨간양태  남해  \n",
       "887          붉감펭  남해  \n",
       "..           ...  ..  \n",
       "292         꽃부채게  제주  \n",
       "267         날개망둑  제주  \n",
       "175        신월가자미  제주  \n",
       "260          잎맥말  제주  \n",
       "964       검은줄꼬리돔  제주  \n",
       "\n",
       "[120 rows x 7 columns]"
      ]
     },
     "execution_count": 105,
     "metadata": {},
     "output_type": "execute_result"
    }
   ],
   "source": [
    "group = df.groupby('지역').head(20)\n",
    "df = group.sort_values(by='지역')\n",
    "\n",
    "df"
   ]
  },
  {
   "cell_type": "markdown",
   "metadata": {},
   "source": [
    "### 저장"
   ]
  }
 ],
 "metadata": {
  "kernelspec": {
   "display_name": "Python 3",
   "language": "python",
   "name": "python3"
  },
  "language_info": {
   "codemirror_mode": {
    "name": "ipython",
    "version": 3
   },
   "file_extension": ".py",
   "mimetype": "text/x-python",
   "name": "python",
   "nbconvert_exporter": "python",
   "pygments_lexer": "ipython3",
   "version": "3.12.2"
  }
 },
 "nbformat": 4,
 "nbformat_minor": 2
}
